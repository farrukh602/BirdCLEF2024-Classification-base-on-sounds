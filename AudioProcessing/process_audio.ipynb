{
  "nbformat": 4,
  "nbformat_minor": 0,
  "metadata": {
    "colab": {
      "provenance": [],
      "authorship_tag": "ABX9TyNUaVyUPHTD6dTiD2qU9ZzD"
    },
    "kernelspec": {
      "name": "python3",
      "display_name": "Python 3"
    },
    "language_info": {
      "name": "python"
    }
  },
  "cells": [
    {
      "cell_type": "code",
      "execution_count": 32,
      "metadata": {
        "id": "mRMFiFcHUK8z"
      },
      "outputs": [],
      "source": [
        "import pandas as pd\n",
        "import numpy as np\n",
        "import matplotlib.pyplot as plt\n",
        "import seaborn as sns\n",
        "from glob import glob\n",
        "import os\n",
        "import librosa\n",
        "import librosa.display\n",
        "import IPython.display as ipd\n",
        "from itertools import cycle"
      ]
    },
    {
      "cell_type": "code",
      "source": [
        "class Configuration:\n",
        "\n",
        "  class Paths:\n",
        "    class_names = sorted(os.listdir('/content/drive/MyDrive/Kaggle/Bird_CLEF2024/train_audio'))\n",
        "    train_audio_files='/content/drive/MyDrive/Kaggle/Bird_CLEF2024/train_audio/*/*.ogg'\n",
        "    unlabeld_soundspaces='/content/drive/MyDrive/Kaggle/Bird_CLEF2024/unlabeled_soundscapes'\n",
        "    taxonomy_birds = '/content/drive/MyDrive/Kaggle/Bird_CLEF2024/eBird_Taxonomy_v2021.csv'\n",
        "    meta_data='/content/drive/MyDrive/Kaggle/Bird_CLEF2024/train_metadata.csv'\n",
        "    sample_submission='/content/drive/MyDrive/Kaggle/Bird_CLEF2024/sample_submission.csv'\n",
        "\n",
        "\n",
        "  class ClassInfo:\n",
        "    class_names=sorted(os.listdir('/content/drive/MyDrive/Kaggle/Bird_CLEF2024/train_audio'))\n",
        "    num_classes=len(class_names)\n",
        "    labels=list(range(num_classes))\n",
        "    labels_with_names = dict(zip(labels,class_names))\n",
        "\n",
        "config=Configuration()"
      ],
      "metadata": {
        "id": "c6nFjsUTaT_p"
      },
      "execution_count": 33,
      "outputs": []
    },
    {
      "cell_type": "code",
      "source": [
        "labels_names=config.ClassInfo.labels_with_names\n",
        "meta_data=pd.read_csv(config.Paths.meta_data)"
      ],
      "metadata": {
        "id": "rkwMrnlLacdi"
      },
      "execution_count": 34,
      "outputs": []
    },
    {
      "cell_type": "code",
      "source": [
        "!git"
      ],
      "metadata": {
        "id": "nUL3lU_2aokX"
      },
      "execution_count": null,
      "outputs": []
    }
  ]
}