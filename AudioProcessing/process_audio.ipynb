{
  "nbformat": 4,
  "nbformat_minor": 0,
  "metadata": {
    "colab": {
      "provenance": [],
      "mount_file_id": "https://github.com/farrukh602/BirdCLEF2024-Classification-base-on-sounds/blob/main/AudioProcessing/process_audio.ipynb",
      "authorship_tag": "ABX9TyNbzkDeOBxoTzAaVeKJhsKv"
    },
    "kernelspec": {
      "name": "python3",
      "display_name": "Python 3"
    },
    "language_info": {
      "name": "python"
    }
  },
  "cells": [
    {
      "cell_type": "code",
      "execution_count": null,
      "metadata": {
        "id": "mRMFiFcHUK8z"
      },
      "outputs": [],
      "source": [
        "import pandas as pd\n",
        "import numpy as np\n",
        "import matplotlib.pyplot as plt\n",
        "import seaborn as sns\n",
        "from glob import glob\n",
        "import os\n",
        "import librosa\n",
        "import librosa.display\n",
        "import IPython.display as ipd\n",
        "from itertools import cycle\n",
        "from tqdm import tqdm"
      ]
    },
    {
      "cell_type": "markdown",
      "source": [
        "# Configuration"
      ],
      "metadata": {
        "id": "MyVYvFgMf50q"
      }
    },
    {
      "cell_type": "code",
      "source": [
        "class Configuration:\n",
        "\n",
        "  recompute_dataframes=False\n",
        "\n",
        "  class Paths:\n",
        "    train_audio_folders = '/content/drive/MyDrive/Kaggle/Bird_CLEF2024/train_audio'\n",
        "    train_audio_files='/content/drive/MyDrive/Kaggle/Bird_CLEF2024/train_audio/*/*.ogg'\n",
        "    unlabeld_soundspaces='/content/drive/MyDrive/Kaggle/Bird_CLEF2024/unlabeled_soundscapes'\n",
        "    taxonomy_birds = '/content/drive/MyDrive/Kaggle/Bird_CLEF2024/eBird_Taxonomy_v2021.csv'\n",
        "    meta_data='/content/drive/MyDrive/Kaggle/Bird_CLEF2024/train_metadata.csv'\n",
        "    sample_submission='/content/drive/MyDrive/Kaggle/Bird_CLEF2024/sample_submission.csv'\n",
        "\n",
        "\n",
        "  class ClassInfo:\n",
        "    class_names=sorted(os.listdir('/content/drive/MyDrive/Kaggle/Bird_CLEF2024/train_audio'))\n",
        "    num_classes=len(class_names)\n",
        "    labels=list(range(num_classes))\n",
        "    labels_with_names = dict(zip(labels,class_names))\n",
        "\n",
        "config=Configuration()"
      ],
      "metadata": {
        "id": "c6nFjsUTaT_p"
      },
      "execution_count": 21,
      "outputs": []
    },
    {
      "cell_type": "markdown",
      "source": [
        "# Extracting audio signals and sample rates for audio processing"
      ],
      "metadata": {
        "id": "Z1EAonDTgGcr"
      }
    },
    {
      "cell_type": "code",
      "source": [
        "# Code for extracting the audio signal and sample rate of single example of each bird species\n",
        "meta_data=pd.read_csv(config.Paths.meta_data)\n",
        "meta_data['filepath'] = config.Paths.train_audio_folders+'/'+meta_data.filename\n",
        "if config.recompute_dataframes:\n",
        "  birds=meta_data['primary_label'].unique()\n",
        "  df= meta_data.set_index('primary_label')\n",
        "  bird_species=[]\n",
        "  audio_signal=[]\n",
        "  sample_rate=[]\n",
        "  audio_data={}\n",
        "  for bird in tqdm(birds, desc='Loading audio signal and sample rate'):\n",
        "\n",
        "    path = df.loc[bird].iloc[0,:]['filepath']\n",
        "    audio, sr = librosa.load(path)\n",
        "    bird_species.append(bird)\n",
        "    audio_signal.append(audio)\n",
        "    sample_rate.append(sr)\n",
        "\n",
        "  audio_data={'bird_species':bird_species,'audio_signal':audio_signal,'sample_rate':sample_rate}\n",
        "  pd.DataFrame(audio_data).to_json('/content/drive/MyDrive/Kaggle/Bird_CLEF2024/audio_data.json')\n",
        "else:\n",
        "  audio_data = pd.read_json('/content/drive/MyDrive/Kaggle/Bird_CLEF2024/audio_data.json')"
      ],
      "metadata": {
        "id": "COC9MijnUzKw"
      },
      "execution_count": 22,
      "outputs": []
    },
    {
      "cell_type": "code",
      "source": [
        "# Code for extracting the audio signal and sample rate of all the examples of each bird species\n",
        "bird_species=[]\n",
        "audio_signal=[]\n",
        "sample_rate=[]\n",
        "audio_data={}\n",
        "audio, sr = 0,0\n",
        "for bird in birds:\n",
        "  if bird.startswith('c'):\n",
        "\n",
        "    for i in tqdm(range(df.loc[bird].shape[0]),desc=f'Loading audio signal and sample rate for {bird}'):\n",
        "      path = df.loc[bird].iloc[0,:]['filepath']\n",
        "      audio, sr = librosa.load(path)\n",
        "      bird_species.append(bird)\n",
        "      audio_signal.append(audio)\n",
        "      sample_rate.append(sr)\n",
        "\n",
        "    globals()[f'audio_data_{bird[0]}']={'bird_species':bird_species,'audio_signal':audio_signal,'sample_rate':sample_rate}\n",
        "  else:\n",
        "    continue"
      ],
      "metadata": {
        "id": "CNqEHDwS7ZA6"
      },
      "execution_count": null,
      "outputs": []
    },
    {
      "cell_type": "code",
      "source": [],
      "metadata": {
        "id": "rBx-ohNBINE2"
      },
      "execution_count": null,
      "outputs": []
    }
  ]
}