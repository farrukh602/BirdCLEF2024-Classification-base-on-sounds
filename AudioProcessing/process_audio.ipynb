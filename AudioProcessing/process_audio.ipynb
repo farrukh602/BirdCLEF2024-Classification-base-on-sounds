{
  "nbformat": 4,
  "nbformat_minor": 0,
  "metadata": {
    "colab": {
      "provenance": [],
      "mount_file_id": "https://github.com/farrukh602/BirdCLEF2024-Classification-base-on-sounds/blob/main/AudioProcessing/process_audio.ipynb",
      "authorship_tag": "ABX9TyOMSU2wbCWKmYHSp6fBZRYw"
    },
    "kernelspec": {
      "name": "python3",
      "display_name": "Python 3"
    },
    "language_info": {
      "name": "python"
    }
  },
  "cells": [
    {
      "cell_type": "code",
      "execution_count": 1,
      "metadata": {
        "id": "mRMFiFcHUK8z"
      },
      "outputs": [],
      "source": [
        "import pandas as pd\n",
        "import numpy as np\n",
        "import matplotlib.pyplot as plt\n",
        "import seaborn as sns\n",
        "from glob import glob\n",
        "import os\n",
        "import librosa\n",
        "import librosa.display\n",
        "import IPython.display as ipd\n",
        "from itertools import cycle\n",
        "from tqdm import tqdm"
      ]
    },
    {
      "cell_type": "code",
      "source": [
        "class Configuration:\n",
        "\n",
        "  class Paths:\n",
        "    train_audio_folders = '/content/drive/MyDrive/Kaggle/Bird_CLEF2024/train_audio'\n",
        "    train_audio_files='/content/drive/MyDrive/Kaggle/Bird_CLEF2024/train_audio/*/*.ogg'\n",
        "    unlabeld_soundspaces='/content/drive/MyDrive/Kaggle/Bird_CLEF2024/unlabeled_soundscapes'\n",
        "    taxonomy_birds = '/content/drive/MyDrive/Kaggle/Bird_CLEF2024/eBird_Taxonomy_v2021.csv'\n",
        "    meta_data='/content/drive/MyDrive/Kaggle/Bird_CLEF2024/train_metadata.csv'\n",
        "    sample_submission='/content/drive/MyDrive/Kaggle/Bird_CLEF2024/sample_submission.csv'\n",
        "\n",
        "\n",
        "  class ClassInfo:\n",
        "    class_names=sorted(os.listdir('/content/drive/MyDrive/Kaggle/Bird_CLEF2024/train_audio'))\n",
        "    num_classes=len(class_names)\n",
        "    labels=list(range(num_classes))\n",
        "    labels_with_names = dict(zip(labels,class_names))\n",
        "\n",
        "config=Configuration()"
      ],
      "metadata": {
        "id": "c6nFjsUTaT_p"
      },
      "execution_count": 2,
      "outputs": []
    },
    {
      "cell_type": "code",
      "source": [
        "labels_names=config.ClassInfo.labels_with_names\n",
        "meta_data=pd.read_csv(config.Paths.meta_data)\n",
        "meta_data['filepath'] = config.Paths.train_audio_folders+'/'+meta_data.filename"
      ],
      "metadata": {
        "id": "rkwMrnlLacdi"
      },
      "execution_count": 3,
      "outputs": []
    },
    {
      "cell_type": "code",
      "source": [
        "# Code for extracting the audio signal and sample rate of single example of each bird species\n",
        "\n",
        "birds=meta_data['primary_label'].unique()\n",
        "df= meta_data.set_index('primary_label')\n",
        "bird_species=[]\n",
        "audio_signal=[]\n",
        "sample_rate=[]\n",
        "audio_data={}\n",
        "for bird in tqdm(birds, desc='Loading audio signal and sample rate'):\n",
        "\n",
        "  path = df.loc[bird].iloc[0,:]['filepath']\n",
        "  audio, sr = librosa.load(path)\n",
        "  bird_species.append(bird)\n",
        "  audio_signal.append(audio)\n",
        "  sample_rate.append(sr)\n",
        "\n",
        "audio_data={'bird_species':bird_species,'audio_signal':audio_signal,'sample_rate':sample_rate}\n"
      ],
      "metadata": {
        "id": "COC9MijnUzKw",
        "outputId": "2df5c1a1-84d6-4542-d2a6-afbe911a2235",
        "colab": {
          "base_uri": "https://localhost:8080/"
        }
      },
      "execution_count": 8,
      "outputs": [
        {
          "output_type": "stream",
          "name": "stderr",
          "text": [
            "Loading audio signal and sample rate: 100%|██████████| 182/182 [01:24<00:00,  2.16it/s]\n"
          ]
        }
      ]
    },
    {
      "cell_type": "code",
      "source": [
        "# Code for extracting the audio signal and sample rate of all the examples of each bird species\n",
        "\n",
        "birds=meta_data['primary_label'].unique()\n",
        "df= meta_data.set_index('primary_label')\n",
        "bird_species=[]\n",
        "audio_signal=[]\n",
        "sample_rate=[]\n",
        "audio_data={}\n",
        "audio, sr = 0,0\n",
        "for bird in birds:\n",
        "  if bird.startswith('c'):\n",
        "\n",
        "    for i in tqdm(range(df.loc[bird].shape[0]),desc=f'Loading audio signal and sample rate for {bird}'):\n",
        "      path = df.loc[bird].iloc[0,:]['filepath']\n",
        "      audio, sr = librosa.load(path)\n",
        "      bird_species.append(bird)\n",
        "      audio_signal.append(audio)\n",
        "      sample_rate.append(sr)\n",
        "\n",
        "    globals()[f'audio_data_{bird[0]}']={'bird_species':bird_species,'audio_signal':audio_signal,'sample_rate':sample_rate}\n",
        "  else:\n",
        "    continue"
      ],
      "metadata": {
        "id": "CNqEHDwS7ZA6"
      },
      "execution_count": null,
      "outputs": []
    },
    {
      "cell_type": "code",
      "source": [
        "import sys\n",
        "\n",
        "# Calculate the total memory usage of audio_data_c\n",
        "total_size = sys.getsizeof(audio_data)\n",
        "for key, value in audio_data.items():\n",
        "    total_size += sys.getsizeof(key) + sys.getsizeof(value)\n",
        "    if isinstance(value, list):\n",
        "        for item in value:\n",
        "            total_size += sys.getsizeof(item)\n",
        "# Convert total memory size to gigabytes\n",
        "total_size_gb = total_size / (1024 ** 3)\n",
        "\n",
        "print(\"Total memory usage of audio_data_c:\", total_size_gb, \"GB\")\n",
        "\n",
        "\n"
      ],
      "metadata": {
        "id": "zVXjmZj2cIIJ",
        "outputId": "870fc97a-fe80-48ca-c674-683abcf80025",
        "colab": {
          "base_uri": "https://localhost:8080/"
        }
      },
      "execution_count": 10,
      "outputs": [
        {
          "output_type": "stream",
          "name": "stdout",
          "text": [
            "Total memory usage of audio_data_c: 0.17704520467668772 GB\n"
          ]
        }
      ]
    },
    {
      "cell_type": "code",
      "source": [],
      "metadata": {
        "id": "rBx-ohNBINE2"
      },
      "execution_count": null,
      "outputs": []
    }
  ]
}