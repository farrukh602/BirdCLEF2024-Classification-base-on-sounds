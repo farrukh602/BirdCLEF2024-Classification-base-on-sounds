{
  "nbformat": 4,
  "nbformat_minor": 0,
  "metadata": {
    "colab": {
      "provenance": [],
      "mount_file_id": "https://github.com/farrukh602/BirdCLEF2024-Classification-base-on-sounds/blob/main/AudioProcessing/process_audio.ipynb",
      "authorship_tag": "ABX9TyMB0S5Lz6ICP2bZKc05+M6C"
    },
    "kernelspec": {
      "name": "python3",
      "display_name": "Python 3"
    },
    "language_info": {
      "name": "python"
    }
  },
  "cells": [
    {
      "cell_type": "code",
      "execution_count": 1,
      "metadata": {
        "id": "mRMFiFcHUK8z"
      },
      "outputs": [],
      "source": [
        "import pandas as pd\n",
        "import numpy as np\n",
        "import matplotlib.pyplot as plt\n",
        "import seaborn as sns\n",
        "from glob import glob\n",
        "import os\n",
        "import librosa\n",
        "import librosa.display\n",
        "import IPython.display as ipd\n",
        "from itertools import cycle\n",
        "from tqdm import tqdm"
      ]
    },
    {
      "cell_type": "code",
      "source": [
        "class Configuration:\n",
        "\n",
        "  class Paths:\n",
        "    train_audio_folders = '/content/drive/MyDrive/Kaggle/Bird_CLEF2024/train_audio'\n",
        "    train_audio_files='/content/drive/MyDrive/Kaggle/Bird_CLEF2024/train_audio/*/*.ogg'\n",
        "    unlabeld_soundspaces='/content/drive/MyDrive/Kaggle/Bird_CLEF2024/unlabeled_soundscapes'\n",
        "    taxonomy_birds = '/content/drive/MyDrive/Kaggle/Bird_CLEF2024/eBird_Taxonomy_v2021.csv'\n",
        "    meta_data='/content/drive/MyDrive/Kaggle/Bird_CLEF2024/train_metadata.csv'\n",
        "    sample_submission='/content/drive/MyDrive/Kaggle/Bird_CLEF2024/sample_submission.csv'\n",
        "\n",
        "\n",
        "  class ClassInfo:\n",
        "    class_names=sorted(os.listdir('/content/drive/MyDrive/Kaggle/Bird_CLEF2024/train_audio'))\n",
        "    num_classes=len(class_names)\n",
        "    labels=list(range(num_classes))\n",
        "    labels_with_names = dict(zip(labels,class_names))\n",
        "\n",
        "config=Configuration()"
      ],
      "metadata": {
        "id": "c6nFjsUTaT_p"
      },
      "execution_count": 3,
      "outputs": []
    },
    {
      "cell_type": "code",
      "source": [
        "labels_names=config.ClassInfo.labels_with_names\n",
        "meta_data=pd.read_csv(config.Paths.meta_data)\n",
        "meta_data['filepath'] = config.Paths.train_audio_folders+'/'+meta_data.filename"
      ],
      "metadata": {
        "id": "rkwMrnlLacdi"
      },
      "execution_count": 4,
      "outputs": []
    },
    {
      "cell_type": "code",
      "source": [
        "meta_data.shape"
      ],
      "metadata": {
        "id": "5HGM1YmicH2e",
        "outputId": "f3e03f3e-4492-4996-a976-531e29295c89",
        "colab": {
          "base_uri": "https://localhost:8080/"
        }
      },
      "execution_count": 5,
      "outputs": [
        {
          "output_type": "execute_result",
          "data": {
            "text/plain": [
              "(24459, 13)"
            ]
          },
          "metadata": {},
          "execution_count": 5
        }
      ]
    },
    {
      "cell_type": "code",
      "source": [
        "# Function to load and process audio in segments\n",
        "def process_audio_segmented(file_paths, segment_length=10):\n",
        "    audio_data = []\n",
        "    for file_path in tqdm(file_paths, desc=\"Processing Audio\"):\n",
        "        y, sr = librosa.load(file_path, sr=None, mono=True)\n",
        "        num_segments = int(np.ceil(len(y) / (sr * segment_length)))\n",
        "        for i in range(num_segments):\n",
        "            start_sample = i * sr * segment_length\n",
        "            end_sample = min((i + 1) * sr * segment_length, len(y))\n",
        "            segment = y[start_sample:end_sample]\n",
        "            audio_data.append(segment)\n",
        "    return audio_data\n",
        "\n",
        "# Your list of file paths\n",
        "file_paths = meta_data['filepath'].tolist()\n",
        "\n",
        "# Process audio files in segments\n",
        "audio_data = process_audio_segmented(file_paths)"
      ],
      "metadata": {
        "id": "iKFytMX3dJC8",
        "outputId": "8c1ae6a9-7bf5-488c-ddc3-773c7e2f3c36",
        "colab": {
          "base_uri": "https://localhost:8080/",
          "height": 308
        }
      },
      "execution_count": 6,
      "outputs": [
        {
          "output_type": "error",
          "ename": "NameError",
          "evalue": "name 'tqdm' is not defined",
          "traceback": [
            "\u001b[0;31m---------------------------------------------------------------------------\u001b[0m",
            "\u001b[0;31mNameError\u001b[0m                                 Traceback (most recent call last)",
            "\u001b[0;32m<ipython-input-6-db8f32d5e356>\u001b[0m in \u001b[0;36m<cell line: 18>\u001b[0;34m()\u001b[0m\n\u001b[1;32m     16\u001b[0m \u001b[0;34m\u001b[0m\u001b[0m\n\u001b[1;32m     17\u001b[0m \u001b[0;31m# Process audio files in segments\u001b[0m\u001b[0;34m\u001b[0m\u001b[0;34m\u001b[0m\u001b[0m\n\u001b[0;32m---> 18\u001b[0;31m \u001b[0maudio_data\u001b[0m \u001b[0;34m=\u001b[0m \u001b[0mprocess_audio_segmented\u001b[0m\u001b[0;34m(\u001b[0m\u001b[0mfile_paths\u001b[0m\u001b[0;34m)\u001b[0m\u001b[0;34m\u001b[0m\u001b[0;34m\u001b[0m\u001b[0m\n\u001b[0m",
            "\u001b[0;32m<ipython-input-6-db8f32d5e356>\u001b[0m in \u001b[0;36mprocess_audio_segmented\u001b[0;34m(file_paths, segment_length)\u001b[0m\n\u001b[1;32m      2\u001b[0m \u001b[0;32mdef\u001b[0m \u001b[0mprocess_audio_segmented\u001b[0m\u001b[0;34m(\u001b[0m\u001b[0mfile_paths\u001b[0m\u001b[0;34m,\u001b[0m \u001b[0msegment_length\u001b[0m\u001b[0;34m=\u001b[0m\u001b[0;36m10\u001b[0m\u001b[0;34m)\u001b[0m\u001b[0;34m:\u001b[0m\u001b[0;34m\u001b[0m\u001b[0;34m\u001b[0m\u001b[0m\n\u001b[1;32m      3\u001b[0m     \u001b[0maudio_data\u001b[0m \u001b[0;34m=\u001b[0m \u001b[0;34m[\u001b[0m\u001b[0;34m]\u001b[0m\u001b[0;34m\u001b[0m\u001b[0;34m\u001b[0m\u001b[0m\n\u001b[0;32m----> 4\u001b[0;31m     \u001b[0;32mfor\u001b[0m \u001b[0mfile_path\u001b[0m \u001b[0;32min\u001b[0m \u001b[0mtqdm\u001b[0m\u001b[0;34m(\u001b[0m\u001b[0mfile_paths\u001b[0m\u001b[0;34m,\u001b[0m \u001b[0mdesc\u001b[0m\u001b[0;34m=\u001b[0m\u001b[0;34m\"Processing Audio\"\u001b[0m\u001b[0;34m)\u001b[0m\u001b[0;34m:\u001b[0m\u001b[0;34m\u001b[0m\u001b[0;34m\u001b[0m\u001b[0m\n\u001b[0m\u001b[1;32m      5\u001b[0m         \u001b[0my\u001b[0m\u001b[0;34m,\u001b[0m \u001b[0msr\u001b[0m \u001b[0;34m=\u001b[0m \u001b[0mlibrosa\u001b[0m\u001b[0;34m.\u001b[0m\u001b[0mload\u001b[0m\u001b[0;34m(\u001b[0m\u001b[0mfile_path\u001b[0m\u001b[0;34m,\u001b[0m \u001b[0msr\u001b[0m\u001b[0;34m=\u001b[0m\u001b[0;32mNone\u001b[0m\u001b[0;34m,\u001b[0m \u001b[0mmono\u001b[0m\u001b[0;34m=\u001b[0m\u001b[0;32mTrue\u001b[0m\u001b[0;34m)\u001b[0m\u001b[0;34m\u001b[0m\u001b[0;34m\u001b[0m\u001b[0m\n\u001b[1;32m      6\u001b[0m         \u001b[0mnum_segments\u001b[0m \u001b[0;34m=\u001b[0m \u001b[0mint\u001b[0m\u001b[0;34m(\u001b[0m\u001b[0mnp\u001b[0m\u001b[0;34m.\u001b[0m\u001b[0mceil\u001b[0m\u001b[0;34m(\u001b[0m\u001b[0mlen\u001b[0m\u001b[0;34m(\u001b[0m\u001b[0my\u001b[0m\u001b[0;34m)\u001b[0m \u001b[0;34m/\u001b[0m \u001b[0;34m(\u001b[0m\u001b[0msr\u001b[0m \u001b[0;34m*\u001b[0m \u001b[0msegment_length\u001b[0m\u001b[0;34m)\u001b[0m\u001b[0;34m)\u001b[0m\u001b[0;34m)\u001b[0m\u001b[0;34m\u001b[0m\u001b[0;34m\u001b[0m\u001b[0m\n",
            "\u001b[0;31mNameError\u001b[0m: name 'tqdm' is not defined"
          ]
        }
      ]
    },
    {
      "cell_type": "code",
      "source": [
        "import librosa\n",
        "from tqdm import tqdm\n",
        "import numpy as np\n",
        "import concurrent.futures\n",
        "\n",
        "# Define a function to load audio files using memory mapping\n",
        "def load_audio_mm(file_path):\n",
        "    y, sr = librosa.load(file_path, sr=None, mono=True)\n",
        "    return y, sr\n",
        "\n",
        "# Process audio files using memory mapping\n",
        "def process_audio(files):\n",
        "    audio_data = []\n",
        "    with concurrent.futures.ProcessPoolExecutor() as executor:\n",
        "        results = list(tqdm(executor.map(load_audio_mm, files), total=len(files)))\n",
        "    for result in results:\n",
        "        audio_data.append(result)\n",
        "    return audio_data\n",
        "\n",
        "# Your list of file paths\n",
        "file_paths = meta_data['filepath'].tolist()\n",
        "\n",
        "# Process audio files\n",
        "audio_data = process_audio(file_paths)\n"
      ],
      "metadata": {
        "id": "03torqu1dogh"
      },
      "execution_count": null,
      "outputs": []
    }
  ]
}